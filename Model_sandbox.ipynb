{
 "cells": [
  {
   "cell_type": "markdown",
   "metadata": {},
   "source": [
    "<h1 style=\"color:blue;\">Group 4 Model Sandbox</h1>\n"
   ]
  },
  {
   "cell_type": "markdown",
   "metadata": {},
   "source": [
    "https://mesonet.agron.iastate.edu/request/download.phtml?network=NJ_ASOS"
   ]
  },
  {
   "cell_type": "markdown",
   "metadata": {},
   "source": [
    "<font size=\"5\">Members:</font> <br> Birendra Khimding <br> Muzhgan Rustaqi <br> Andrew Fennimore"
   ]
  },
  {
   "cell_type": "markdown",
   "metadata": {},
   "source": [
    "#### Used to help determine models and best fit"
   ]
  },
  {
   "cell_type": "code",
   "execution_count": 111,
   "metadata": {},
   "outputs": [],
   "source": [
    "import pandas as pd\n",
    "import numpy as np\n",
    "\n",
    "\n",
    "# Pull data from MJX\n",
    "url = \"https://raw.githubusercontent.com/Fenn3963/Weather-Impact-on-Air-Traffic-Management/refs/heads/main/MJX.csv\"\n",
    "\n",
    "#All values with na are labeled as M\n",
    "weather = pd.read_csv(\"MJX.csv\" , na_values= \"M\")\n",
    "\n",
    "#Remove all of the variables that have less then a 15% threshhold\n",
    "threshold = len(weather)*.15\n",
    "cols_drop_nan = weather.columns[weather.isna().sum() <= threshold]\n",
    "\n",
    "# Drop row with missing values\n",
    "weather.dropna(subset=cols_drop_nan, inplace=True)\n",
    "\n",
    "\n",
    "cols_to_drop = weather.columns[weather.isna().sum() > 0]\n",
    "\n",
    "weather.drop(columns=cols_to_drop , inplace=True)\n",
    "\n"
   ]
  },
  {
   "cell_type": "code",
   "execution_count": 113,
   "metadata": {},
   "outputs": [
    {
     "name": "stdout",
     "output_type": "stream",
     "text": [
      "                            OLS Regression Results                            \n",
      "==============================================================================\n",
      "Dep. Variable:                   vsby   R-squared:                       0.252\n",
      "Model:                            OLS   Adj. R-squared:                  0.251\n",
      "Method:                 Least Squares   F-statistic:                     421.0\n",
      "Date:                Sun, 23 Feb 2025   Prob (F-statistic):               0.00\n",
      "Time:                        14:51:22   Log-Likelihood:                -25046.\n",
      "No. Observations:               11267   AIC:                         5.011e+04\n",
      "Df Residuals:                   11257   BIC:                         5.019e+04\n",
      "Df Model:                           9                                         \n",
      "Covariance Type:            nonrobust                                         \n",
      "===================================================================================\n",
      "                      coef    std err          t      P>|t|      [0.025      0.975]\n",
      "-----------------------------------------------------------------------------------\n",
      "Intercept          -1.1464      3.153     -0.364      0.716      -7.326       5.034\n",
      "C(skyc1)[T.CLR]     0.4979      0.068      7.278      0.000       0.364       0.632\n",
      "C(skyc1)[T.FEW]     0.3827      0.085      4.496      0.000       0.216       0.550\n",
      "C(skyc1)[T.OVC]    -1.3470      0.072    -18.604      0.000      -1.489      -1.205\n",
      "C(skyc1)[T.SCT]     0.2867      0.088      3.273      0.001       0.115       0.458\n",
      "C(skyc1)[T.VV ]    -7.2896      0.648    -11.241      0.000      -8.561      -6.018\n",
      "tmpf                0.0050      0.001      4.146      0.000       0.003       0.007\n",
      "relh               -0.0369      0.001    -27.301      0.000      -0.040      -0.034\n",
      "sknt                0.0031      0.006      0.531      0.595      -0.008       0.014\n",
      "alti                0.4188      0.103      4.054      0.000       0.216       0.621\n",
      "==============================================================================\n",
      "Omnibus:                     3092.933   Durbin-Watson:                   0.354\n",
      "Prob(Omnibus):                  0.000   Jarque-Bera (JB):             7343.041\n",
      "Skew:                          -1.543   Prob(JB):                         0.00\n",
      "Kurtosis:                       5.475   Cond. No.                     1.49e+04\n",
      "==============================================================================\n",
      "\n",
      "Notes:\n",
      "[1] Standard Errors assume that the covariance matrix of the errors is correctly specified.\n",
      "[2] The condition number is large, 1.49e+04. This might indicate that there are\n",
      "strong multicollinearity or other numerical problems.\n"
     ]
    }
   ],
   "source": [
    "import pandas as pd\n",
    "import numpy as np\n",
    "import statsmodels.formula.api as smf\n",
    "\n",
    "# Read Data from the MJX\n",
    "url = \"https://raw.githubusercontent.com/Fenn3963/Weather-Impact-on-Air-Traffic-Management/main/MJX.csv\"\n",
    "\n",
    "# All values with na are labeled as M\n",
    "weather = pd.read_csv(url, na_values=\"M\")\n",
    "\n",
    "\n",
    "\n",
    "# Model 1: Predict visibility using various weather variables\n",
    "model = smf.ols(formula=\"vsby ~ tmpf + relh + sknt + alti + C(skyc1)\" , \n",
    "                data=weather).fit()\n",
    "\n",
    "# Print summary of the model\n",
    "print(model.summary())\n"
   ]
  },
  {
   "cell_type": "code",
   "execution_count": 114,
   "metadata": {},
   "outputs": [
    {
     "name": "stdout",
     "output_type": "stream",
     "text": [
      "                            OLS Regression Results                            \n",
      "==============================================================================\n",
      "Dep. Variable:                   vsby   R-squared:                       0.252\n",
      "Model:                            OLS   Adj. R-squared:                  0.251\n",
      "Method:                 Least Squares   F-statistic:                     421.0\n",
      "Date:                Sun, 23 Feb 2025   Prob (F-statistic):               0.00\n",
      "Time:                        14:51:23   Log-Likelihood:                -25046.\n",
      "No. Observations:               11267   AIC:                         5.011e+04\n",
      "Df Residuals:                   11257   BIC:                         5.019e+04\n",
      "Df Model:                           9                                         \n",
      "Covariance Type:            nonrobust                                         \n",
      "===================================================================================\n",
      "                      coef    std err          t      P>|t|      [0.025      0.975]\n",
      "-----------------------------------------------------------------------------------\n",
      "Intercept          -1.1464      3.153     -0.364      0.716      -7.326       5.034\n",
      "C(skyc1)[T.CLR]     0.4979      0.068      7.278      0.000       0.364       0.632\n",
      "C(skyc1)[T.FEW]     0.3827      0.085      4.496      0.000       0.216       0.550\n",
      "C(skyc1)[T.OVC]    -1.3470      0.072    -18.604      0.000      -1.489      -1.205\n",
      "C(skyc1)[T.SCT]     0.2867      0.088      3.273      0.001       0.115       0.458\n",
      "C(skyc1)[T.VV ]    -7.2896      0.648    -11.241      0.000      -8.561      -6.018\n",
      "tmpf                0.0050      0.001      4.146      0.000       0.003       0.007\n",
      "relh               -0.0369      0.001    -27.301      0.000      -0.040      -0.034\n",
      "sknt                0.0031      0.006      0.531      0.595      -0.008       0.014\n",
      "alti                0.4188      0.103      4.054      0.000       0.216       0.621\n",
      "==============================================================================\n",
      "Omnibus:                     3092.933   Durbin-Watson:                   0.354\n",
      "Prob(Omnibus):                  0.000   Jarque-Bera (JB):             7343.041\n",
      "Skew:                          -1.543   Prob(JB):                         0.00\n",
      "Kurtosis:                       5.475   Cond. No.                     1.49e+04\n",
      "==============================================================================\n",
      "\n",
      "Notes:\n",
      "[1] Standard Errors assume that the covariance matrix of the errors is correctly specified.\n",
      "[2] The condition number is large, 1.49e+04. This might indicate that there are\n",
      "strong multicollinearity or other numerical problems.\n"
     ]
    }
   ],
   "source": [
    "import pandas as pd\n",
    "import numpy as np\n",
    "import statsmodels.formula.api as smf\n",
    "\n",
    "# pull data from \n",
    "url = \"https://raw.githubusercontent.com/Fenn3963/Weather-Impact-on-Air-Traffic-Management/main/MJX.csv\"\n",
    "\n",
    "# All values with na are labeled as M\n",
    "weather = pd.read_csv(url, na_values=\"M\")\n",
    "\n",
    "\n",
    "\n",
    "# Model 1: Predict visibility using various weather variables\n",
    "model = smf.ols(formula=\"vsby ~ tmpf + relh + sknt + alti + C(skyc1)\", data=weather).fit()\n",
    "\n",
    "# Print summary of the model\n",
    "print(model.summary())\n"
   ]
  },
  {
   "cell_type": "code",
   "execution_count": 116,
   "metadata": {},
   "outputs": [
    {
     "name": "stdout",
     "output_type": "stream",
     "text": [
      "                            OLS Regression Results                            \n",
      "==============================================================================\n",
      "Dep. Variable:       reflect_log_vsby   R-squared:                       0.276\n",
      "Model:                            OLS   Adj. R-squared:                  0.275\n",
      "Method:                 Least Squares   F-statistic:                     475.6\n",
      "Date:                Sun, 23 Feb 2025   Prob (F-statistic):               0.00\n",
      "Time:                        14:51:23   Log-Likelihood:                -10746.\n",
      "No. Observations:               11267   AIC:                         2.151e+04\n",
      "Df Residuals:                   11257   BIC:                         2.159e+04\n",
      "Df Model:                           9                                         \n",
      "Covariance Type:            nonrobust                                         \n",
      "===================================================================================\n",
      "                      coef    std err          t      P>|t|      [0.025      0.975]\n",
      "-----------------------------------------------------------------------------------\n",
      "Intercept           3.9165      0.886      4.420      0.000       2.180       5.653\n",
      "C(skyc1)[T.CLR]    -0.1412      0.019     -7.344      0.000      -0.179      -0.104\n",
      "C(skyc1)[T.FEW]    -0.1054      0.024     -4.406      0.000      -0.152      -0.059\n",
      "C(skyc1)[T.OVC]     0.3688      0.020     18.122      0.000       0.329       0.409\n",
      "C(skyc1)[T.SCT]    -0.0668      0.025     -2.715      0.007      -0.115      -0.019\n",
      "C(skyc1)[T.VV ]     1.7418      0.182      9.557      0.000       1.385       2.099\n",
      "tmpf               -0.0013      0.000     -3.948      0.000      -0.002      -0.001\n",
      "relh                0.0122      0.000     31.975      0.000       0.011       0.013\n",
      "sknt                0.0036      0.002      2.235      0.025       0.000       0.007\n",
      "alti               -0.1483      0.029     -5.106      0.000      -0.205      -0.091\n",
      "==============================================================================\n",
      "Omnibus:                     1885.269   Durbin-Watson:                   0.401\n",
      "Prob(Omnibus):                  0.000   Jarque-Bera (JB):             3040.956\n",
      "Skew:                           1.150   Prob(JB):                         0.00\n",
      "Kurtosis:                       4.089   Cond. No.                     1.49e+04\n",
      "==============================================================================\n",
      "\n",
      "Notes:\n",
      "[1] Standard Errors assume that the covariance matrix of the errors is correctly specified.\n",
      "[2] The condition number is large, 1.49e+04. This might indicate that there are\n",
      "strong multicollinearity or other numerical problems.\n"
     ]
    }
   ],
   "source": [
    "#Inversing and transforming to deal with negative skew\n",
    "import numpy as np\n",
    "import statsmodels.formula.api as smf\n",
    "\n",
    "# tyring an inverse log tranformation\n",
    "K = weather[\"vsby\"].max() + 1\n",
    "weather[\"reflect_log_vsby\"] = np.log(K - weather[\"vsby\"])\n",
    "\n",
    "# Fit the ols model using the new variable\n",
    "model = smf.ols(formula=\"reflect_log_vsby ~ tmpf + relh + sknt + alti + C(skyc1)\", data=weather).fit()\n",
    "\n",
    "# View the summary of the model\n",
    "print(model.summary())\n",
    "\n"
   ]
  },
  {
   "cell_type": "code",
   "execution_count": 119,
   "metadata": {},
   "outputs": [
    {
     "name": "stdout",
     "output_type": "stream",
     "text": [
      "                  Generalized Linear Model Regression Results                  \n",
      "===============================================================================\n",
      "Dep. Variable:     np.log(11.0 - vsby)   No. Observations:                   18\n",
      "Model:                             GLM   Df Residuals:                        1\n",
      "Model Family:                 Gaussian   Df Model:                           16\n",
      "Link Function:                Identity   Scale:                      1.5883e-08\n",
      "Method:                           IRLS   Log-Likelihood:                 14.240\n",
      "Date:                 Sun, 23 Feb 2025   Deviance:                      0.21659\n",
      "Time:                         14:51:25   Pearson chi2:                    0.217\n",
      "No. Iterations:                      3   Pseudo R-squ. (CS):              1.000\n",
      "Covariance Type:             nonrobust                                         \n",
      "=====================================================================================\n",
      "                        coef    std err          z      P>|z|      [0.025      0.975]\n",
      "-------------------------------------------------------------------------------------\n",
      "Intercept            53.5564      0.009   5656.062      0.000      53.538      53.575\n",
      "tmpf                 -0.0318      0.000   -216.082      0.000      -0.032      -0.032\n",
      "dwpf                 -0.0539      0.000   -377.175      0.000      -0.054      -0.054\n",
      "relh                  0.0655   5.84e-05   1121.752      0.000       0.065       0.066\n",
      "drct                 -0.0061   1.36e-06  -4472.725      0.000      -0.006      -0.006\n",
      "sknt                 -0.0350   1.73e-05  -2026.272      0.000      -0.035      -0.035\n",
      "alti                -17.3823      0.003  -5655.996      0.000     -17.388     -17.376\n",
      "mslp                  0.4605    8.2e-05   5616.731      0.000       0.460       0.461\n",
      "gust                  0.0707   1.73e-05   4078.722      0.000       0.071       0.071\n",
      "skyl1                 0.0006   1.13e-06    531.421      0.000       0.001       0.001\n",
      "skyl2                -0.0020   2.68e-07  -7584.596      0.000      -0.002      -0.002\n",
      "skyl1:skyl2        1.161e-07   1.76e-10    658.250      0.000    1.16e-07    1.16e-07\n",
      "skyl3                -0.0009   1.85e-07  -5085.160      0.000      -0.001      -0.001\n",
      "skyl1:skyl3        1.753e-07   1.08e-10   1616.162      0.000    1.75e-07    1.75e-07\n",
      "skyl2:skyl3        3.173e-07    3.3e-11   9613.486      0.000    3.17e-07    3.17e-07\n",
      "skyl1:skyl2:skyl3 -4.666e-11   1.56e-14  -2993.652      0.000   -4.67e-11   -4.66e-11\n",
      "peak_wind_gust       -0.0173   2.94e-05   -588.336      0.000      -0.017      -0.017\n",
      "feel                  0.0600   2.28e-05   2634.066      0.000       0.060       0.060\n",
      "=====================================================================================\n"
     ]
    },
    {
     "name": "stderr",
     "output_type": "stream",
     "text": [
      "C:\\Users\\fenn3\\anaconda3\\Lib\\site-packages\\statsmodels\\regression\\_tools.py:121: RuntimeWarning: divide by zero encountered in scalar divide\n",
      "  scale = np.dot(wresid, wresid) / df_resid\n"
     ]
    }
   ],
   "source": [
    "#Transform Y so that it is reflected and reversed\n",
    "# constant K greater than the maximum value of vsby\n",
    "K = weather['vsby'].max() + 1\n",
    "\n",
    "# Apply the reverse log transformation and create the GLM model\n",
    "modelglm_neg = smf.glm(formula=f\"np.log({K} - vsby) ~ tmpf + dwpf + relh + drct + sknt + alti + mslp + gust + \\\n",
    "                        (skyl1 * skyl2 * skyl3) + \\\n",
    "                        peak_wind_gust + \\\n",
    "                        feel\", data=weather).fit()\n",
    "\n",
    "print(modelglm_neg.summary())\n"
   ]
  },
  {
   "cell_type": "code",
   "execution_count": 121,
   "metadata": {},
   "outputs": [
    {
     "name": "stdout",
     "output_type": "stream",
     "text": [
      "                            OLS Regression Results                            \n",
      "==============================================================================\n",
      "Dep. Variable:                   vsby   R-squared:                       0.248\n",
      "Model:                            OLS   Adj. R-squared:                  0.248\n",
      "Method:                 Least Squares   F-statistic:                     538.7\n",
      "Date:                Sun, 23 Feb 2025   Prob (F-statistic):               0.00\n",
      "Time:                        14:51:27   Log-Likelihood:                -25461.\n",
      "No. Observations:               11423   AIC:                         5.094e+04\n",
      "Df Residuals:                   11415   BIC:                         5.100e+04\n",
      "Df Model:                           7                                         \n",
      "Covariance Type:            nonrobust                                         \n",
      "==============================================================================\n",
      "                 coef    std err          t      P>|t|      [0.025      0.975]\n",
      "------------------------------------------------------------------------------\n",
      "Intercept    -25.1164      3.414     -7.356      0.000     -31.809     -18.424\n",
      "tmpf          -0.0528      0.010     -5.408      0.000      -0.072      -0.034\n",
      "relh          -0.0358      0.001    -29.078      0.000      -0.038      -0.033\n",
      "drct           0.0019      0.000      8.969      0.000       0.001       0.002\n",
      "skyl1          0.0003   1.01e-05     30.182      0.000       0.000       0.000\n",
      "skyl3          0.0002   2.94e-05      5.620      0.000       0.000       0.000\n",
      "feel           0.0513      0.008      6.084      0.000       0.035       0.068\n",
      "mslp           0.0341      0.003     10.379      0.000       0.028       0.041\n",
      "==============================================================================\n",
      "Omnibus:                     3088.285   Durbin-Watson:                   0.345\n",
      "Prob(Omnibus):                  0.000   Jarque-Bera (JB):             6956.335\n",
      "Skew:                          -1.554   Prob(JB):                         0.00\n",
      "Kurtosis:                       5.226   Cond. No.                     1.09e+06\n",
      "==============================================================================\n",
      "\n",
      "Notes:\n",
      "[1] Standard Errors assume that the covariance matrix of the errors is correctly specified.\n",
      "[2] The condition number is large, 1.09e+06. This might indicate that there are\n",
      "strong multicollinearity or other numerical problems.\n"
     ]
    },
    {
     "name": "stderr",
     "output_type": "stream",
     "text": [
      "C:\\Users\\fenn3\\AppData\\Local\\Temp\\ipykernel_25668\\69535338.py:16: FutureWarning: A value is trying to be set on a copy of a DataFrame or Series through chained assignment using an inplace method.\n",
      "The behavior will change in pandas 3.0. This inplace method will never work because the intermediate object on which we are setting values always behaves as a copy.\n",
      "\n",
      "For example, when doing 'df[col].method(value, inplace=True)', try using 'df.method({col: value}, inplace=True)' or df[col] = df[col].method(value) instead, to perform the operation inplace on the original object.\n",
      "\n",
      "\n",
      "  weather[variable].fillna(weather[variable].mean(), inplace=True)\n"
     ]
    }
   ],
   "source": [
    "#Seeing if adding mean changes results\n",
    "import pandas as pd\n",
    "import numpy as np\n",
    "import statsmodels.formula.api as smf\n",
    "\n",
    "# Read Data from the MJX\n",
    "url = \"https://raw.githubusercontent.com/Fenn3963/Weather-Impact-on-Air-Traffic-Management/main/MJX.csv\"\n",
    "\n",
    "# All values with na are labeled as M\n",
    "weather = pd.read_csv(url, na_values=\"M\")\n",
    "\n",
    "# List of significant variables to fill missing values with their mean\n",
    "significant_variables = [\"vsby\", \"tmpf\", \"dwpf\", \"relh\", \"drct\", \"skyl1\", \"skyl3\", \"feel\", \"mslp\"]\n",
    "\n",
    "# Fill missing values with the mean for specified significant variables\n",
    "for variable in significant_variables:\n",
    "    weather[variable].fillna(weather[variable].mean(), inplace=True)\n",
    "\n",
    "# Create a new model using only significant variables\n",
    "model_sig = smf.ols(formula=\"vsby ~ tmpf + relh + drct + skyl1 + skyl3 + feel + mslp\", \n",
    "                    data=weather).fit()\n",
    "\n",
    "# Print summary of the new model\n",
    "print(model_sig.summary())\n"
   ]
  },
  {
   "cell_type": "code",
   "execution_count": 135,
   "metadata": {},
   "outputs": [
    {
     "name": "stderr",
     "output_type": "stream",
     "text": [
      "C:\\Users\\fenn3\\anaconda3\\Lib\\site-packages\\statsmodels\\genmod\\families\\links.py:13: FutureWarning: The log link alias is deprecated. Use Log instead. The log link alias will be removed after the 0.15.0 release.\n",
      "  warnings.warn(\n"
     ]
    },
    {
     "name": "stdout",
     "output_type": "stream",
     "text": [
      "                  Generalized Linear Model Regression Results                   \n",
      "================================================================================\n",
      "Dep. Variable:     log_transformed_vsby   No. Observations:                11275\n",
      "Model:                              GLM   Df Residuals:                    11265\n",
      "Model Family:                     Gamma   Df Model:                            9\n",
      "Link Function:                      log   Scale:                          102.68\n",
      "Method:                            IRLS   Log-Likelihood:                    inf\n",
      "Date:                  Sun, 23 Feb 2025   Deviance:                   6.5731e+05\n",
      "Time:                          15:20:01   Pearson chi2:                 1.16e+06\n",
      "No. Iterations:                     100   Pseudo R-squ. (CS):                nan\n",
      "Covariance Type:              nonrobust                                         \n",
      "===================================================================================\n",
      "                      coef    std err          z      P>|z|      [0.025      0.975]\n",
      "-----------------------------------------------------------------------------------\n",
      "Intercept          20.1582     14.289      1.411      0.158      -7.847      48.164\n",
      "C(skyc1)[T.CLR]    -0.8097      0.310     -2.613      0.009      -1.417      -0.202\n",
      "C(skyc1)[T.FEW]    -0.2234      0.385     -0.580      0.562      -0.979       0.532\n",
      "C(skyc1)[T.OVC]     0.3751      0.328      1.144      0.253      -0.268       1.018\n",
      "C(skyc1)[T.SCT]    -0.2330      0.397     -0.587      0.557      -1.011       0.545\n",
      "C(skyc1)[T.VV ]     1.3906      2.939      0.473      0.636      -4.370       7.152\n",
      "tmpf                0.0049      0.005      0.906      0.365      -0.006       0.016\n",
      "relh                0.0630      0.006     10.279      0.000       0.051       0.075\n",
      "sknt                0.0180      0.026      0.692      0.489      -0.033       0.069\n",
      "alti               -0.8991      0.468     -1.920      0.055      -1.817       0.019\n",
      "===================================================================================\n"
     ]
    },
    {
     "name": "stderr",
     "output_type": "stream",
     "text": [
      "C:\\Users\\fenn3\\anaconda3\\Lib\\site-packages\\statsmodels\\genmod\\families\\family.py:812: RuntimeWarning: divide by zero encountered in log\n",
      "  ll_obs -= special.gammaln(weight_scale) + np.log(endog)\n",
      "C:\\Users\\fenn3\\anaconda3\\Lib\\site-packages\\statsmodels\\genmod\\generalized_linear_model.py:1891: RuntimeWarning: invalid value encountered in scalar subtract\n",
      "  prsq = 1 - np.exp((self.llnull - self.llf) * (2 / self.nobs))\n"
     ]
    },
    {
     "ename": "ValueError",
     "evalue": "Input contains NaN.",
     "output_type": "error",
     "traceback": [
      "\u001b[1;31m---------------------------------------------------------------------------\u001b[0m",
      "\u001b[1;31mValueError\u001b[0m                                Traceback (most recent call last)",
      "Cell \u001b[1;32mIn[135], line 23\u001b[0m\n\u001b[0;32m     19\u001b[0m \u001b[38;5;28mprint\u001b[39m(model_gamma\u001b[38;5;241m.\u001b[39msummary())\n\u001b[0;32m     21\u001b[0m weather[\u001b[38;5;124m'\u001b[39m\u001b[38;5;124mpredictions\u001b[39m\u001b[38;5;124m'\u001b[39m] \u001b[38;5;241m=\u001b[39m model_gamma\u001b[38;5;241m.\u001b[39mpredict(weather)\n\u001b[1;32m---> 23\u001b[0m mae \u001b[38;5;241m=\u001b[39m mean_absolute_error(weather[\u001b[38;5;124m'\u001b[39m\u001b[38;5;124mlog_transformed_vsby\u001b[39m\u001b[38;5;124m'\u001b[39m], weather[\u001b[38;5;124m'\u001b[39m\u001b[38;5;124mpredictions\u001b[39m\u001b[38;5;124m'\u001b[39m])\n",
      "File \u001b[1;32m~\\anaconda3\\Lib\\site-packages\\sklearn\\utils\\_param_validation.py:213\u001b[0m, in \u001b[0;36mvalidate_params.<locals>.decorator.<locals>.wrapper\u001b[1;34m(*args, **kwargs)\u001b[0m\n\u001b[0;32m    207\u001b[0m \u001b[38;5;28;01mtry\u001b[39;00m:\n\u001b[0;32m    208\u001b[0m     \u001b[38;5;28;01mwith\u001b[39;00m config_context(\n\u001b[0;32m    209\u001b[0m         skip_parameter_validation\u001b[38;5;241m=\u001b[39m(\n\u001b[0;32m    210\u001b[0m             prefer_skip_nested_validation \u001b[38;5;129;01mor\u001b[39;00m global_skip_validation\n\u001b[0;32m    211\u001b[0m         )\n\u001b[0;32m    212\u001b[0m     ):\n\u001b[1;32m--> 213\u001b[0m         \u001b[38;5;28;01mreturn\u001b[39;00m func(\u001b[38;5;241m*\u001b[39margs, \u001b[38;5;241m*\u001b[39m\u001b[38;5;241m*\u001b[39mkwargs)\n\u001b[0;32m    214\u001b[0m \u001b[38;5;28;01mexcept\u001b[39;00m InvalidParameterError \u001b[38;5;28;01mas\u001b[39;00m e:\n\u001b[0;32m    215\u001b[0m     \u001b[38;5;66;03m# When the function is just a wrapper around an estimator, we allow\u001b[39;00m\n\u001b[0;32m    216\u001b[0m     \u001b[38;5;66;03m# the function to delegate validation to the estimator, but we replace\u001b[39;00m\n\u001b[0;32m    217\u001b[0m     \u001b[38;5;66;03m# the name of the estimator by the name of the function in the error\u001b[39;00m\n\u001b[0;32m    218\u001b[0m     \u001b[38;5;66;03m# message to avoid confusion.\u001b[39;00m\n\u001b[0;32m    219\u001b[0m     msg \u001b[38;5;241m=\u001b[39m re\u001b[38;5;241m.\u001b[39msub(\n\u001b[0;32m    220\u001b[0m         \u001b[38;5;124mr\u001b[39m\u001b[38;5;124m\"\u001b[39m\u001b[38;5;124mparameter of \u001b[39m\u001b[38;5;124m\\\u001b[39m\u001b[38;5;124mw+ must be\u001b[39m\u001b[38;5;124m\"\u001b[39m,\n\u001b[0;32m    221\u001b[0m         \u001b[38;5;124mf\u001b[39m\u001b[38;5;124m\"\u001b[39m\u001b[38;5;124mparameter of \u001b[39m\u001b[38;5;132;01m{\u001b[39;00mfunc\u001b[38;5;241m.\u001b[39m\u001b[38;5;18m__qualname__\u001b[39m\u001b[38;5;132;01m}\u001b[39;00m\u001b[38;5;124m must be\u001b[39m\u001b[38;5;124m\"\u001b[39m,\n\u001b[0;32m    222\u001b[0m         \u001b[38;5;28mstr\u001b[39m(e),\n\u001b[0;32m    223\u001b[0m     )\n",
      "File \u001b[1;32m~\\anaconda3\\Lib\\site-packages\\sklearn\\metrics\\_regression.py:216\u001b[0m, in \u001b[0;36mmean_absolute_error\u001b[1;34m(y_true, y_pred, sample_weight, multioutput)\u001b[0m\n\u001b[0;32m    152\u001b[0m \u001b[38;5;129m@validate_params\u001b[39m(\n\u001b[0;32m    153\u001b[0m     {\n\u001b[0;32m    154\u001b[0m         \u001b[38;5;124m\"\u001b[39m\u001b[38;5;124my_true\u001b[39m\u001b[38;5;124m\"\u001b[39m: [\u001b[38;5;124m\"\u001b[39m\u001b[38;5;124marray-like\u001b[39m\u001b[38;5;124m\"\u001b[39m],\n\u001b[1;32m   (...)\u001b[0m\n\u001b[0;32m    162\u001b[0m     y_true, y_pred, \u001b[38;5;241m*\u001b[39m, sample_weight\u001b[38;5;241m=\u001b[39m\u001b[38;5;28;01mNone\u001b[39;00m, multioutput\u001b[38;5;241m=\u001b[39m\u001b[38;5;124m\"\u001b[39m\u001b[38;5;124muniform_average\u001b[39m\u001b[38;5;124m\"\u001b[39m\n\u001b[0;32m    163\u001b[0m ):\n\u001b[0;32m    164\u001b[0m \u001b[38;5;250m    \u001b[39m\u001b[38;5;124;03m\"\"\"Mean absolute error regression loss.\u001b[39;00m\n\u001b[0;32m    165\u001b[0m \n\u001b[0;32m    166\u001b[0m \u001b[38;5;124;03m    Read more in the :ref:`User Guide <mean_absolute_error>`.\u001b[39;00m\n\u001b[1;32m   (...)\u001b[0m\n\u001b[0;32m    214\u001b[0m \u001b[38;5;124;03m    0.85...\u001b[39;00m\n\u001b[0;32m    215\u001b[0m \u001b[38;5;124;03m    \"\"\"\u001b[39;00m\n\u001b[1;32m--> 216\u001b[0m     y_type, y_true, y_pred, multioutput \u001b[38;5;241m=\u001b[39m _check_reg_targets(\n\u001b[0;32m    217\u001b[0m         y_true, y_pred, multioutput\n\u001b[0;32m    218\u001b[0m     )\n\u001b[0;32m    219\u001b[0m     check_consistent_length(y_true, y_pred, sample_weight)\n\u001b[0;32m    220\u001b[0m     output_errors \u001b[38;5;241m=\u001b[39m np\u001b[38;5;241m.\u001b[39maverage(np\u001b[38;5;241m.\u001b[39mabs(y_pred \u001b[38;5;241m-\u001b[39m y_true), weights\u001b[38;5;241m=\u001b[39msample_weight, axis\u001b[38;5;241m=\u001b[39m\u001b[38;5;241m0\u001b[39m)\n",
      "File \u001b[1;32m~\\anaconda3\\Lib\\site-packages\\sklearn\\metrics\\_regression.py:113\u001b[0m, in \u001b[0;36m_check_reg_targets\u001b[1;34m(y_true, y_pred, multioutput, dtype, xp)\u001b[0m\n\u001b[0;32m    111\u001b[0m check_consistent_length(y_true, y_pred)\n\u001b[0;32m    112\u001b[0m y_true \u001b[38;5;241m=\u001b[39m check_array(y_true, ensure_2d\u001b[38;5;241m=\u001b[39m\u001b[38;5;28;01mFalse\u001b[39;00m, dtype\u001b[38;5;241m=\u001b[39mdtype)\n\u001b[1;32m--> 113\u001b[0m y_pred \u001b[38;5;241m=\u001b[39m check_array(y_pred, ensure_2d\u001b[38;5;241m=\u001b[39m\u001b[38;5;28;01mFalse\u001b[39;00m, dtype\u001b[38;5;241m=\u001b[39mdtype)\n\u001b[0;32m    115\u001b[0m \u001b[38;5;28;01mif\u001b[39;00m y_true\u001b[38;5;241m.\u001b[39mndim \u001b[38;5;241m==\u001b[39m \u001b[38;5;241m1\u001b[39m:\n\u001b[0;32m    116\u001b[0m     y_true \u001b[38;5;241m=\u001b[39m xp\u001b[38;5;241m.\u001b[39mreshape(y_true, (\u001b[38;5;241m-\u001b[39m\u001b[38;5;241m1\u001b[39m, \u001b[38;5;241m1\u001b[39m))\n",
      "File \u001b[1;32m~\\anaconda3\\Lib\\site-packages\\sklearn\\utils\\validation.py:1064\u001b[0m, in \u001b[0;36mcheck_array\u001b[1;34m(array, accept_sparse, accept_large_sparse, dtype, order, copy, force_writeable, force_all_finite, ensure_2d, allow_nd, ensure_min_samples, ensure_min_features, estimator, input_name)\u001b[0m\n\u001b[0;32m   1058\u001b[0m     \u001b[38;5;28;01mraise\u001b[39;00m \u001b[38;5;167;01mValueError\u001b[39;00m(\n\u001b[0;32m   1059\u001b[0m         \u001b[38;5;124m\"\u001b[39m\u001b[38;5;124mFound array with dim \u001b[39m\u001b[38;5;132;01m%d\u001b[39;00m\u001b[38;5;124m. \u001b[39m\u001b[38;5;132;01m%s\u001b[39;00m\u001b[38;5;124m expected <= 2.\u001b[39m\u001b[38;5;124m\"\u001b[39m\n\u001b[0;32m   1060\u001b[0m         \u001b[38;5;241m%\u001b[39m (array\u001b[38;5;241m.\u001b[39mndim, estimator_name)\n\u001b[0;32m   1061\u001b[0m     )\n\u001b[0;32m   1063\u001b[0m \u001b[38;5;28;01mif\u001b[39;00m force_all_finite:\n\u001b[1;32m-> 1064\u001b[0m     _assert_all_finite(\n\u001b[0;32m   1065\u001b[0m         array,\n\u001b[0;32m   1066\u001b[0m         input_name\u001b[38;5;241m=\u001b[39minput_name,\n\u001b[0;32m   1067\u001b[0m         estimator_name\u001b[38;5;241m=\u001b[39mestimator_name,\n\u001b[0;32m   1068\u001b[0m         allow_nan\u001b[38;5;241m=\u001b[39mforce_all_finite \u001b[38;5;241m==\u001b[39m \u001b[38;5;124m\"\u001b[39m\u001b[38;5;124mallow-nan\u001b[39m\u001b[38;5;124m\"\u001b[39m,\n\u001b[0;32m   1069\u001b[0m     )\n\u001b[0;32m   1071\u001b[0m \u001b[38;5;28;01mif\u001b[39;00m copy:\n\u001b[0;32m   1072\u001b[0m     \u001b[38;5;28;01mif\u001b[39;00m _is_numpy_namespace(xp):\n\u001b[0;32m   1073\u001b[0m         \u001b[38;5;66;03m# only make a copy if `array` and `array_orig` may share memory`\u001b[39;00m\n",
      "File \u001b[1;32m~\\anaconda3\\Lib\\site-packages\\sklearn\\utils\\validation.py:123\u001b[0m, in \u001b[0;36m_assert_all_finite\u001b[1;34m(X, allow_nan, msg_dtype, estimator_name, input_name)\u001b[0m\n\u001b[0;32m    120\u001b[0m \u001b[38;5;28;01mif\u001b[39;00m first_pass_isfinite:\n\u001b[0;32m    121\u001b[0m     \u001b[38;5;28;01mreturn\u001b[39;00m\n\u001b[1;32m--> 123\u001b[0m _assert_all_finite_element_wise(\n\u001b[0;32m    124\u001b[0m     X,\n\u001b[0;32m    125\u001b[0m     xp\u001b[38;5;241m=\u001b[39mxp,\n\u001b[0;32m    126\u001b[0m     allow_nan\u001b[38;5;241m=\u001b[39mallow_nan,\n\u001b[0;32m    127\u001b[0m     msg_dtype\u001b[38;5;241m=\u001b[39mmsg_dtype,\n\u001b[0;32m    128\u001b[0m     estimator_name\u001b[38;5;241m=\u001b[39mestimator_name,\n\u001b[0;32m    129\u001b[0m     input_name\u001b[38;5;241m=\u001b[39minput_name,\n\u001b[0;32m    130\u001b[0m )\n",
      "File \u001b[1;32m~\\anaconda3\\Lib\\site-packages\\sklearn\\utils\\validation.py:172\u001b[0m, in \u001b[0;36m_assert_all_finite_element_wise\u001b[1;34m(X, xp, allow_nan, msg_dtype, estimator_name, input_name)\u001b[0m\n\u001b[0;32m    155\u001b[0m \u001b[38;5;28;01mif\u001b[39;00m estimator_name \u001b[38;5;129;01mand\u001b[39;00m input_name \u001b[38;5;241m==\u001b[39m \u001b[38;5;124m\"\u001b[39m\u001b[38;5;124mX\u001b[39m\u001b[38;5;124m\"\u001b[39m \u001b[38;5;129;01mand\u001b[39;00m has_nan_error:\n\u001b[0;32m    156\u001b[0m     \u001b[38;5;66;03m# Improve the error message on how to handle missing values in\u001b[39;00m\n\u001b[0;32m    157\u001b[0m     \u001b[38;5;66;03m# scikit-learn.\u001b[39;00m\n\u001b[0;32m    158\u001b[0m     msg_err \u001b[38;5;241m+\u001b[39m\u001b[38;5;241m=\u001b[39m (\n\u001b[0;32m    159\u001b[0m         \u001b[38;5;124mf\u001b[39m\u001b[38;5;124m\"\u001b[39m\u001b[38;5;130;01m\\n\u001b[39;00m\u001b[38;5;132;01m{\u001b[39;00mestimator_name\u001b[38;5;132;01m}\u001b[39;00m\u001b[38;5;124m does not accept missing values\u001b[39m\u001b[38;5;124m\"\u001b[39m\n\u001b[0;32m    160\u001b[0m         \u001b[38;5;124m\"\u001b[39m\u001b[38;5;124m encoded as NaN natively. For supervised learning, you might want\u001b[39m\u001b[38;5;124m\"\u001b[39m\n\u001b[1;32m   (...)\u001b[0m\n\u001b[0;32m    170\u001b[0m         \u001b[38;5;124m\"\u001b[39m\u001b[38;5;124m#estimators-that-handle-nan-values\u001b[39m\u001b[38;5;124m\"\u001b[39m\n\u001b[0;32m    171\u001b[0m     )\n\u001b[1;32m--> 172\u001b[0m \u001b[38;5;28;01mraise\u001b[39;00m \u001b[38;5;167;01mValueError\u001b[39;00m(msg_err)\n",
      "\u001b[1;31mValueError\u001b[0m: Input contains NaN."
     ]
    }
   ],
   "source": [
    "import pandas as pd\n",
    "import numpy as np\n",
    "import statsmodels.formula.api as smf\n",
    "import statsmodels.api as sm\n",
    "from sklearn.metrics import mean_absolute_error\n",
    "\n",
    "K = weather['vsby'].max() + 1\n",
    "\n",
    "# Calculate the log-transformed visibility\n",
    "weather['log_transformed_vsby'] = np.log(K - weather['vsby'])\n",
    "\n",
    "\n",
    "# Fit the glm model with log link\n",
    "model_gamma = smf.glm(formula=\"log_transformed_vsby ~ tmpf + relh + C(skyc1) + sknt + alti\", \n",
    "                      data=weather,\n",
    "                      family=sm.families.Gamma(link=sm.families.links.log())).fit()\n",
    "\n",
    "# summary of model\n",
    "print(model_gamma.summary())\n",
    "\n",
    "weather['predictions'] = model_gamma.predict(weather)\n",
    "\n",
    "mae = mean_absolute_error(weather['log_transformed_vsby'], weather['predictions'])\n",
    "\n"
   ]
  },
  {
   "cell_type": "code",
   "execution_count": null,
   "metadata": {},
   "outputs": [],
   "source": []
  }
 ],
 "metadata": {
  "kernelspec": {
   "display_name": "Python [conda env:base] *",
   "language": "python",
   "name": "conda-base-py"
  },
  "language_info": {
   "codemirror_mode": {
    "name": "ipython",
    "version": 3
   },
   "file_extension": ".py",
   "mimetype": "text/x-python",
   "name": "python",
   "nbconvert_exporter": "python",
   "pygments_lexer": "ipython3",
   "version": "3.12.7"
  }
 },
 "nbformat": 4,
 "nbformat_minor": 4
}
